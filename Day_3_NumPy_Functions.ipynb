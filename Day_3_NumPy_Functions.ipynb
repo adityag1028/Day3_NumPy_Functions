{
 "cells": [
  {
   "cell_type": "markdown",
   "id": "582e6c43",
   "metadata": {},
   "source": [
    "# Day 3: NumPy Functions"
   ]
  },
  {
   "cell_type": "code",
   "execution_count": 33,
   "id": "ae1207cf",
   "metadata": {},
   "outputs": [
    {
     "name": "stdout",
     "output_type": "stream",
     "text": [
      "arccos(x): 1.0471975511965976, 0.7855491633997437, 0.0, 2.0943951023931957\n"
     ]
    }
   ],
   "source": [
    "import numpy as np\n",
    "\n",
    "# Define some sample arrays for demonstration\n",
    "x = np.array([0.5, 0.707, 1.0, -0.5])\n",
    "y = np.array([0.5, 0.707, 1.0, -0.5])\n",
    "\n",
    "# arccos()\n",
    "arccos_result = np.arccos(x)\n",
    "print(\"arccos(x):\", \", \".join(map(str, arccos_result)))"
   ]
  },
  {
   "cell_type": "code",
   "execution_count": 34,
   "id": "0147ef78",
   "metadata": {},
   "outputs": [
    {
     "name": "stdout",
     "output_type": "stream",
     "text": [
      "arcosh(x): nan, nan, 0.0, nan\n"
     ]
    }
   ],
   "source": [
    "valid_indices = x >= 1\n",
    "valid_x = x[valid_indices]\n",
    "\n",
    "# Compute arcosh only for valid inputs\n",
    "arcosh_result = np.empty_like(x)\n",
    "arcosh_result[valid_indices] = np.arccosh(valid_x)\n",
    "arcosh_result[~valid_indices] = np.nan\n",
    "\n",
    "print(\"arcosh(x):\", \", \".join(map(str, arcosh_result)))"
   ]
  },
  {
   "cell_type": "code",
   "execution_count": 35,
   "id": "4857bd2b",
   "metadata": {},
   "outputs": [
    {
     "name": "stdout",
     "output_type": "stream",
     "text": [
      "arcsin(x): [ 0.52359878  0.78524716  1.57079633 -0.52359878]\n"
     ]
    }
   ],
   "source": [
    "# arcsin()\n",
    "arcsin_result = np.arcsin(x)\n",
    "print(\"arcsin(x):\", arcsin_result)"
   ]
  },
  {
   "cell_type": "code",
   "execution_count": 36,
   "id": "7d247873",
   "metadata": {},
   "outputs": [
    {
     "name": "stdout",
     "output_type": "stream",
     "text": [
      "arcsinh(x): [ 0.48121183  0.65839176  0.88137359 -0.48121183]\n"
     ]
    }
   ],
   "source": [
    "# arcsinh()\n",
    "arcsinh_result = np.arcsinh(x)\n",
    "print(\"arcsinh(x):\", arcsinh_result)"
   ]
  },
  {
   "cell_type": "code",
   "execution_count": 37,
   "id": "4e2b7648",
   "metadata": {},
   "outputs": [
    {
     "name": "stdout",
     "output_type": "stream",
     "text": [
      "arctan(x): [ 0.46364761  0.61540852  0.78539816 -0.46364761]\n"
     ]
    }
   ],
   "source": [
    "# arctan()\n",
    "arctan_result = np.arctan(x)\n",
    "print(\"arctan(x):\", arctan_result)"
   ]
  },
  {
   "cell_type": "code",
   "execution_count": 38,
   "id": "06e1c023",
   "metadata": {},
   "outputs": [
    {
     "name": "stdout",
     "output_type": "stream",
     "text": [
      "arctan2(x, y): [ 0.78539816  0.78539816  0.78539816 -2.35619449]\n"
     ]
    }
   ],
   "source": [
    "# arctan2()\n",
    "arctan2_result = np.arctan2(x, y)\n",
    "print(\"arctan2(x, y):\", arctan2_result)"
   ]
  },
  {
   "cell_type": "code",
   "execution_count": 39,
   "id": "7a5413cc",
   "metadata": {},
   "outputs": [
    {
     "name": "stdout",
     "output_type": "stream",
     "text": [
      "arctanh(x): 0.5493061443340549, 0.8811600568886866, nan, -0.5493061443340549\n"
     ]
    }
   ],
   "source": [
    "# Filter out invalid inputs (excluding -1 and 1)\n",
    "valid_indices = (x > -1) & (x < 1)\n",
    "valid_x = x[valid_indices]\n",
    "\n",
    "# Compute arctanh only for valid inputs\n",
    "arctanh_result = np.empty_like(x)\n",
    "arctanh_result[valid_indices] = np.arctanh(valid_x)\n",
    "arctanh_result[~valid_indices] = np.nan\n",
    "\n",
    "print(\"arctanh(x):\", \", \".join(map(str, arctanh_result)))\n"
   ]
  },
  {
   "cell_type": "code",
   "execution_count": 40,
   "id": "944f98f9",
   "metadata": {},
   "outputs": [
    {
     "name": "stdout",
     "output_type": "stream",
     "text": [
      "argmax(x): 2\n"
     ]
    }
   ],
   "source": [
    "# argmax()\n",
    "argmax_result = np.argmax(x)\n",
    "print(\"argmax(x):\", argmax_result)"
   ]
  },
  {
   "cell_type": "code",
   "execution_count": 41,
   "id": "39d8ac1a",
   "metadata": {},
   "outputs": [
    {
     "name": "stdout",
     "output_type": "stream",
     "text": [
      "argmin(x): 3\n"
     ]
    }
   ],
   "source": [
    "# argmin()\n",
    "argmin_result = np.argmin(x)\n",
    "print(\"argmin(x):\", argmin_result)"
   ]
  },
  {
   "cell_type": "code",
   "execution_count": 42,
   "id": "a86faec9",
   "metadata": {},
   "outputs": [
    {
     "name": "stdout",
     "output_type": "stream",
     "text": [
      "argsort(x): [3 0 1 2]\n"
     ]
    }
   ],
   "source": [
    "# argsort()\n",
    "argsort_result = np.argsort(x)\n",
    "print(\"argsort(x):\", argsort_result)"
   ]
  }
 ],
 "metadata": {
  "kernelspec": {
   "display_name": "Python 3 (ipykernel)",
   "language": "python",
   "name": "python3"
  },
  "language_info": {
   "codemirror_mode": {
    "name": "ipython",
    "version": 3
   },
   "file_extension": ".py",
   "mimetype": "text/x-python",
   "name": "python",
   "nbconvert_exporter": "python",
   "pygments_lexer": "ipython3",
   "version": "3.11.7"
  }
 },
 "nbformat": 4,
 "nbformat_minor": 5
}
